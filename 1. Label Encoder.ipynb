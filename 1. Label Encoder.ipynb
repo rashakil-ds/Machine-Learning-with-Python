{
 "cells": [
  {
   "cell_type": "markdown",
   "id": "21070538",
   "metadata": {},
   "source": [
    "# 1. Label Encoder"
   ]
  },
  {
   "cell_type": "code",
   "execution_count": 1,
   "id": "5122882e",
   "metadata": {},
   "outputs": [],
   "source": [
    "classes = ['ClassA', 'ClassB', 'ClassC', 'ClassD']\n",
    "\n",
    "instances = ['ClassA', 'ClassB', 'ClassC', 'ClassD', 'ClassA', 'ClassB', 'ClassC', 'ClassD', 'ClassA', 'ClassB']"
   ]
  },
  {
   "cell_type": "code",
   "execution_count": 2,
   "id": "0790c5cf",
   "metadata": {},
   "outputs": [
    {
     "name": "stdout",
     "output_type": "stream",
     "text": [
      "Encoded labels: [0, 1, 2, 3, 0, 1, 2, 3, 0, 1]\n"
     ]
    }
   ],
   "source": [
    "label_to_int = {label: index for index, label in enumerate(classes)} #60 Days of Python ; Day 25\n",
    "encoded_labels = [label_to_int[label] for label in instances]\n",
    "\n",
    "print(\"Encoded labels:\", encoded_labels)"
   ]
  },
  {
   "cell_type": "code",
   "execution_count": 3,
   "id": "9bdaf4f3",
   "metadata": {},
   "outputs": [
    {
     "name": "stdout",
     "output_type": "stream",
     "text": [
      "Encoded labels: [0, 1, 2, 3, 0, 1, 2, 3, 0, 1]\n",
      "Decoded labels: ['ClassA', 'ClassB', 'ClassC', 'ClassD', 'ClassA', 'ClassB', 'ClassC', 'ClassD', 'ClassA', 'ClassB']\n"
     ]
    }
   ],
   "source": [
    "int_to_label = {index: label for label, index in label_to_int.items()}\n",
    "decoded_labels = [int_to_label[index] for index in encoded_labels]\n",
    "\n",
    "print(\"Encoded labels:\", encoded_labels)\n",
    "print(\"Decoded labels:\", decoded_labels)"
   ]
  },
  {
   "cell_type": "markdown",
   "id": "63ee1325",
   "metadata": {},
   "source": [
    "# Sklearn - Label Encoder"
   ]
  },
  {
   "cell_type": "code",
   "execution_count": 4,
   "id": "60a20a81",
   "metadata": {},
   "outputs": [],
   "source": [
    "from sklearn.preprocessing import LabelEncoder"
   ]
  },
  {
   "cell_type": "code",
   "execution_count": 5,
   "id": "ad2970f2",
   "metadata": {},
   "outputs": [
    {
     "name": "stdout",
     "output_type": "stream",
     "text": [
      "Encoded labels: [0 1 2 3 0 1 2 3 0 1]\n"
     ]
    }
   ],
   "source": [
    "label_encoder = LabelEncoder()\n",
    "encoded_labels = label_encoder.fit_transform(instances)\n",
    "\n",
    "print(\"Encoded labels:\", encoded_labels)"
   ]
  },
  {
   "cell_type": "code",
   "execution_count": 6,
   "id": "5fd9dabe",
   "metadata": {},
   "outputs": [
    {
     "name": "stdout",
     "output_type": "stream",
     "text": [
      "Encoded labels: [0 1 2 3 0 1 2 3 0 1]\n",
      "Original labels: ['ClassA' 'ClassB' 'ClassC' 'ClassD' 'ClassA' 'ClassB' 'ClassC' 'ClassD'\n",
      " 'ClassA' 'ClassB']\n"
     ]
    }
   ],
   "source": [
    "original_labels = label_encoder.inverse_transform(encoded_labels)\n",
    "\n",
    "print(\"Encoded labels:\", encoded_labels)\n",
    "print(\"Original labels:\", original_labels)"
   ]
  },
  {
   "cell_type": "code",
   "execution_count": null,
   "id": "e932d2b3",
   "metadata": {},
   "outputs": [],
   "source": []
  }
 ],
 "metadata": {
  "kernelspec": {
   "display_name": "Python 3 (ipykernel)",
   "language": "python",
   "name": "python3"
  },
  "language_info": {
   "codemirror_mode": {
    "name": "ipython",
    "version": 3
   },
   "file_extension": ".py",
   "mimetype": "text/x-python",
   "name": "python",
   "nbconvert_exporter": "python",
   "pygments_lexer": "ipython3",
   "version": "3.9.13"
  }
 },
 "nbformat": 4,
 "nbformat_minor": 5
}
