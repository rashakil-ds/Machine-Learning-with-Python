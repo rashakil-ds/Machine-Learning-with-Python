{
 "cells": [
  {
   "cell_type": "code",
   "execution_count": null,
   "id": "bbdeadf4",
   "metadata": {},
   "outputs": [],
   "source": [
    "# Full Video: Video: https://youtu.be/3KWzYM_KafM"
   ]
  },
  {
   "cell_type": "code",
   "execution_count": 13,
   "id": "91176585",
   "metadata": {},
   "outputs": [],
   "source": [
    "# !pip install gspread"
   ]
  },
  {
   "cell_type": "code",
   "execution_count": 1,
   "id": "d5bec96a",
   "metadata": {},
   "outputs": [],
   "source": [
    "import gspread as gs\n",
    "import pandas as pd"
   ]
  },
  {
   "cell_type": "code",
   "execution_count": 3,
   "id": "dd662fbd",
   "metadata": {},
   "outputs": [],
   "source": [
    "gc = gs.service_account(filename=\"C:\\\\Users\\\\rashe\\\\Downloads\\\\aiquest-376023-1304ddc10d11.json\")"
   ]
  },
  {
   "cell_type": "code",
   "execution_count": 4,
   "id": "4a5cd3d8",
   "metadata": {},
   "outputs": [],
   "source": [
    "sh = gc.open_by_url('https://docs.google.com/spreadsheets/d/1zr1M2Tdrash8S8LdbnwpzLmbCDESZaXCkA_2d-nd6fI/edit?usp=sharing')"
   ]
  },
  {
   "cell_type": "code",
   "execution_count": 5,
   "id": "3e788fdf",
   "metadata": {},
   "outputs": [
    {
     "data": {
      "text/plain": [
       "<Spreadsheet 'aiquest employees' id:1zr1M2Tdrash8S8LdbnwpzLmbCDESZaXCkA_2d-nd6fI>"
      ]
     },
     "execution_count": 5,
     "metadata": {},
     "output_type": "execute_result"
    }
   ],
   "source": [
    "sh"
   ]
  },
  {
   "cell_type": "code",
   "execution_count": 10,
   "id": "425087c0",
   "metadata": {},
   "outputs": [],
   "source": [
    "ws = sh.worksheet('emp2')"
   ]
  },
  {
   "cell_type": "code",
   "execution_count": 11,
   "id": "4025c84d",
   "metadata": {},
   "outputs": [
    {
     "data": {
      "text/html": [
       "<div>\n",
       "<style scoped>\n",
       "    .dataframe tbody tr th:only-of-type {\n",
       "        vertical-align: middle;\n",
       "    }\n",
       "\n",
       "    .dataframe tbody tr th {\n",
       "        vertical-align: top;\n",
       "    }\n",
       "\n",
       "    .dataframe thead th {\n",
       "        text-align: right;\n",
       "    }\n",
       "</style>\n",
       "<table border=\"1\" class=\"dataframe\">\n",
       "  <thead>\n",
       "    <tr style=\"text-align: right;\">\n",
       "      <th></th>\n",
       "      <th>name2</th>\n",
       "      <th>age2</th>\n",
       "    </tr>\n",
       "  </thead>\n",
       "  <tbody>\n",
       "    <tr>\n",
       "      <th>0</th>\n",
       "      <td>noman</td>\n",
       "      <td>27</td>\n",
       "    </tr>\n",
       "    <tr>\n",
       "      <th>1</th>\n",
       "      <td>rony</td>\n",
       "      <td>28</td>\n",
       "    </tr>\n",
       "    <tr>\n",
       "      <th>2</th>\n",
       "      <td>sohan</td>\n",
       "      <td>30</td>\n",
       "    </tr>\n",
       "    <tr>\n",
       "      <th>3</th>\n",
       "      <td>shuvo</td>\n",
       "      <td>31</td>\n",
       "    </tr>\n",
       "  </tbody>\n",
       "</table>\n",
       "</div>"
      ],
      "text/plain": [
       "   name2  age2\n",
       "0  noman    27\n",
       "1   rony    28\n",
       "2  sohan    30\n",
       "3  shuvo    31"
      ]
     },
     "execution_count": 11,
     "metadata": {},
     "output_type": "execute_result"
    }
   ],
   "source": [
    "df = pd.DataFrame(ws.get_all_records())\n",
    "df.head()"
   ]
  },
  {
   "cell_type": "code",
   "execution_count": null,
   "id": "d8025040",
   "metadata": {},
   "outputs": [],
   "source": []
  }
 ],
 "metadata": {
  "kernelspec": {
   "display_name": "Python 3 (ipykernel)",
   "language": "python",
   "name": "python3"
  },
  "language_info": {
   "codemirror_mode": {
    "name": "ipython",
    "version": 3
   },
   "file_extension": ".py",
   "mimetype": "text/x-python",
   "name": "python",
   "nbconvert_exporter": "python",
   "pygments_lexer": "ipython3",
   "version": "3.9.13"
  }
 },
 "nbformat": 4,
 "nbformat_minor": 5
}
